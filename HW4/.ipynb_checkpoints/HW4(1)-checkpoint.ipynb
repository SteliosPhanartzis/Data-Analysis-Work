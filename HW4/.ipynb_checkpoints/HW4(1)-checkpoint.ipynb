{
 "cells": [
  {
   "cell_type": "markdown",
   "metadata": {},
   "source": [
    "# HW4 Support Vector Machine and Decision Trees\n",
    "\n",
    "# Due on 11/25 23:59 pm"
   ]
  },
  {
   "cell_type": "code",
   "execution_count": 1,
   "metadata": {},
   "outputs": [],
   "source": [
    "import pandas as pd\n",
    "import numpy as np\n",
    "import matplotlib.pyplot as plt\n",
    "import seaborn as sns\n",
    "import warnings\n",
    "warnings.filterwarnings('ignore')"
   ]
  },
  {
   "cell_type": "markdown",
   "metadata": {},
   "source": [
    "## We will use the same affair dataset from HW3, but will skip the EDA phase we have done enough of it"
   ]
  },
  {
   "cell_type": "markdown",
   "metadata": {},
   "source": [
    "#### Everything removing outliers, create dummies variables had been done for you"
   ]
  },
  {
   "cell_type": "code",
   "execution_count": 2,
   "metadata": {},
   "outputs": [
    {
     "data": {
      "text/html": [
       "<div>\n",
       "<style scoped>\n",
       "    .dataframe tbody tr th:only-of-type {\n",
       "        vertical-align: middle;\n",
       "    }\n",
       "\n",
       "    .dataframe tbody tr th {\n",
       "        vertical-align: top;\n",
       "    }\n",
       "\n",
       "    .dataframe thead th {\n",
       "        text-align: right;\n",
       "    }\n",
       "</style>\n",
       "<table border=\"1\" class=\"dataframe\">\n",
       "  <thead>\n",
       "    <tr style=\"text-align: right;\">\n",
       "      <th></th>\n",
       "      <th>rate_marriage</th>\n",
       "      <th>age</th>\n",
       "      <th>yrs_married</th>\n",
       "      <th>children</th>\n",
       "      <th>religious</th>\n",
       "      <th>educ</th>\n",
       "      <th>had_affair</th>\n",
       "      <th>occ2</th>\n",
       "      <th>occ3</th>\n",
       "      <th>occ4</th>\n",
       "      <th>occ5</th>\n",
       "      <th>occ6</th>\n",
       "    </tr>\n",
       "  </thead>\n",
       "  <tbody>\n",
       "    <tr>\n",
       "      <td>0</td>\n",
       "      <td>3.0</td>\n",
       "      <td>32.0</td>\n",
       "      <td>9.0</td>\n",
       "      <td>3.0</td>\n",
       "      <td>3.0</td>\n",
       "      <td>17.0</td>\n",
       "      <td>1</td>\n",
       "      <td>1</td>\n",
       "      <td>0</td>\n",
       "      <td>0</td>\n",
       "      <td>0</td>\n",
       "      <td>0</td>\n",
       "    </tr>\n",
       "    <tr>\n",
       "      <td>1</td>\n",
       "      <td>3.0</td>\n",
       "      <td>27.0</td>\n",
       "      <td>13.0</td>\n",
       "      <td>3.0</td>\n",
       "      <td>1.0</td>\n",
       "      <td>14.0</td>\n",
       "      <td>1</td>\n",
       "      <td>0</td>\n",
       "      <td>1</td>\n",
       "      <td>0</td>\n",
       "      <td>0</td>\n",
       "      <td>0</td>\n",
       "    </tr>\n",
       "    <tr>\n",
       "      <td>2</td>\n",
       "      <td>4.0</td>\n",
       "      <td>22.0</td>\n",
       "      <td>2.5</td>\n",
       "      <td>0.0</td>\n",
       "      <td>1.0</td>\n",
       "      <td>16.0</td>\n",
       "      <td>1</td>\n",
       "      <td>0</td>\n",
       "      <td>1</td>\n",
       "      <td>0</td>\n",
       "      <td>0</td>\n",
       "      <td>0</td>\n",
       "    </tr>\n",
       "    <tr>\n",
       "      <td>3</td>\n",
       "      <td>4.0</td>\n",
       "      <td>37.0</td>\n",
       "      <td>16.5</td>\n",
       "      <td>4.0</td>\n",
       "      <td>3.0</td>\n",
       "      <td>16.0</td>\n",
       "      <td>1</td>\n",
       "      <td>0</td>\n",
       "      <td>0</td>\n",
       "      <td>0</td>\n",
       "      <td>1</td>\n",
       "      <td>0</td>\n",
       "    </tr>\n",
       "    <tr>\n",
       "      <td>4</td>\n",
       "      <td>5.0</td>\n",
       "      <td>27.0</td>\n",
       "      <td>9.0</td>\n",
       "      <td>1.0</td>\n",
       "      <td>1.0</td>\n",
       "      <td>14.0</td>\n",
       "      <td>1</td>\n",
       "      <td>0</td>\n",
       "      <td>1</td>\n",
       "      <td>0</td>\n",
       "      <td>0</td>\n",
       "      <td>0</td>\n",
       "    </tr>\n",
       "  </tbody>\n",
       "</table>\n",
       "</div>"
      ],
      "text/plain": [
       "   rate_marriage   age  yrs_married  children  religious  educ  had_affair  \\\n",
       "0            3.0  32.0          9.0       3.0        3.0  17.0           1   \n",
       "1            3.0  27.0         13.0       3.0        1.0  14.0           1   \n",
       "2            4.0  22.0          2.5       0.0        1.0  16.0           1   \n",
       "3            4.0  37.0         16.5       4.0        3.0  16.0           1   \n",
       "4            5.0  27.0          9.0       1.0        1.0  14.0           1   \n",
       "\n",
       "   occ2  occ3  occ4  occ5  occ6  \n",
       "0     1     0     0     0     0  \n",
       "1     0     1     0     0     0  \n",
       "2     0     1     0     0     0  \n",
       "3     0     0     0     1     0  \n",
       "4     0     1     0     0     0  "
      ]
     },
     "execution_count": 2,
     "metadata": {},
     "output_type": "execute_result"
    }
   ],
   "source": [
    "# Remember the affair data set from HW3, we will use that dataset again\n",
    "# but we will directly load it from the API\n",
    "orig_df = pd.read_csv(\"affairs2.csv\")\n",
    "# Set up our target class label\n",
    "orig_df['had_affair'] = orig_df['affairs'].apply(lambda x: 1 if x != 0 else 0)\n",
    "orig_df = orig_df.drop('affairs',axis=1)\n",
    "# remove NA\n",
    "orig_df.dropna(inplace=True)\n",
    "# create dummies variable for occupation\n",
    "occ = pd.get_dummies(orig_df['occupation'],drop_first=True)\n",
    "# we include rate_marriage feature as well. In HW3, we did not include that variable\n",
    "features = ['rate_marriage','age','yrs_married','children','religious','educ', 'had_affair']\n",
    "df = orig_df\n",
    "df = pd.concat([orig_df[features], occ], axis=1)\n",
    "df.head()"
   ]
  },
  {
   "cell_type": "code",
   "execution_count": 3,
   "metadata": {},
   "outputs": [
    {
     "data": {
      "text/plain": [
       "rate_marriage    0\n",
       "age              0\n",
       "yrs_married      0\n",
       "children         0\n",
       "religious        0\n",
       "educ             0\n",
       "had_affair       0\n",
       "occ2             0\n",
       "occ3             0\n",
       "occ4             0\n",
       "occ5             0\n",
       "occ6             0\n",
       "dtype: int64"
      ]
     },
     "execution_count": 3,
     "metadata": {},
     "output_type": "execute_result"
    }
   ],
   "source": [
    "# make sure there is no missing values\n",
    "df.isnull().sum()"
   ]
  },
  {
   "cell_type": "markdown",
   "metadata": {},
   "source": [
    "### Now we are ready to build models"
   ]
  },
  {
   "cell_type": "markdown",
   "metadata": {},
   "source": [
    "### Question 1: Build a classification model using SVC using linear kernel with usual steps"
   ]
  },
  {
   "cell_type": "code",
   "execution_count": 4,
   "metadata": {},
   "outputs": [],
   "source": [
    "#import the model from sklearn import svm, create the SVC object \n",
    "#model = svm.SVC()\n",
    "#Call Train test split\n",
    "#print out model performance"
   ]
  },
  {
   "cell_type": "code",
   "execution_count": 5,
   "metadata": {},
   "outputs": [],
   "source": [
    "# Create SVC object\n",
    "from sklearn import svm\n",
    "model = svm.SVC(kernel ='linear')"
   ]
  },
  {
   "cell_type": "code",
   "execution_count": 6,
   "metadata": {},
   "outputs": [
    {
     "data": {
      "text/plain": [
       "SVC(C=1.0, cache_size=200, class_weight=None, coef0=0.0,\n",
       "    decision_function_shape='ovr', degree=3, gamma='auto_deprecated',\n",
       "    kernel='linear', max_iter=-1, probability=False, random_state=None,\n",
       "    shrinking=True, tol=0.001, verbose=False)"
      ]
     },
     "execution_count": 6,
     "metadata": {},
     "output_type": "execute_result"
    }
   ],
   "source": [
    "# Train/test split and train model\n",
    "from sklearn.model_selection import train_test_split\n",
    "X_train, X_test, y_train, y_test = train_test_split(df.drop('had_affair',axis=1), df['had_affair'], \n",
    "                                                    test_size=0.30, random_state=101)\n",
    "model.fit(X_train,y_train)"
   ]
  },
  {
   "cell_type": "code",
   "execution_count": 7,
   "metadata": {},
   "outputs": [
    {
     "name": "stdout",
     "output_type": "stream",
     "text": [
      "              precision    recall  f1-score   support\n",
      "\n",
      "           0       0.71      0.92      0.80      1277\n",
      "           1       0.61      0.25      0.36       633\n",
      "\n",
      "    accuracy                           0.70      1910\n",
      "   macro avg       0.66      0.59      0.58      1910\n",
      "weighted avg       0.68      0.70      0.66      1910\n",
      "\n",
      "0.6994764397905759\n"
     ]
    }
   ],
   "source": [
    "#Save model results\n",
    "predictions = model.predict(X_test)\n",
    "from sklearn.metrics import classification_report, accuracy_score\n",
    "#Evaluate and print accuracy score\n",
    "print(classification_report(y_test,predictions))\n",
    "print(accuracy_score(y_test, predictions))"
   ]
  },
  {
   "cell_type": "markdown",
   "metadata": {},
   "source": [
    "### Question 2. Now try different value of C-parameter and rerun your model"
   ]
  },
  {
   "cell_type": "code",
   "execution_count": 8,
   "metadata": {},
   "outputs": [
    {
     "data": {
      "text/plain": [
       "SVC(C=10.0, cache_size=200, class_weight=None, coef0=0.0,\n",
       "    decision_function_shape='ovr', degree=3, gamma='auto_deprecated',\n",
       "    kernel='linear', max_iter=-1, probability=False, random_state=None,\n",
       "    shrinking=True, tol=0.001, verbose=False)"
      ]
     },
     "execution_count": 8,
     "metadata": {},
     "output_type": "execute_result"
    }
   ],
   "source": [
    "# Recreate SVC object with different C-parameter\n",
    "model = svm.SVC(kernel ='linear', C=10.0)\n",
    "# Retrain model\n",
    "model.fit(X_train,y_train)"
   ]
  },
  {
   "cell_type": "code",
   "execution_count": 9,
   "metadata": {},
   "outputs": [
    {
     "name": "stdout",
     "output_type": "stream",
     "text": [
      "              precision    recall  f1-score   support\n",
      "\n",
      "           0       0.71      0.92      0.80      1277\n",
      "           1       0.61      0.25      0.36       633\n",
      "\n",
      "    accuracy                           0.70      1910\n",
      "   macro avg       0.66      0.59      0.58      1910\n",
      "weighted avg       0.68      0.70      0.66      1910\n",
      "\n",
      "0.6994764397905759\n"
     ]
    }
   ],
   "source": [
    "#Save model results\n",
    "predictions = model.predict(X_test)\n",
    "from sklearn.metrics import classification_report, accuracy_score\n",
    "#Evaluate and print accuracy score\n",
    "print(classification_report(y_test,predictions))\n",
    "print(accuracy_score(y_test, predictions))"
   ]
  },
  {
   "cell_type": "markdown",
   "metadata": {},
   "source": [
    "### Question 3. Try using rbf as your kernel and use Gamma of 2**-5, 0.1, 1 and 2"
   ]
  },
  {
   "cell_type": "markdown",
   "metadata": {},
   "source": [
    "#### Gamma of 2^-5"
   ]
  },
  {
   "cell_type": "code",
   "execution_count": 10,
   "metadata": {},
   "outputs": [
    {
     "name": "stdout",
     "output_type": "stream",
     "text": [
      "              precision    recall  f1-score   support\n",
      "\n",
      "           0       0.72      0.92      0.80      1277\n",
      "           1       0.62      0.27      0.38       633\n",
      "\n",
      "    accuracy                           0.70      1910\n",
      "   macro avg       0.67      0.59      0.59      1910\n",
      "weighted avg       0.68      0.70      0.66      1910\n",
      "\n",
      "0.7026178010471205\n"
     ]
    }
   ],
   "source": [
    "# Gamma of 2^-5, C of 1\n",
    "model = svm.SVC(kernel='rbf', gamma=0.03125, C=1)\n",
    "# Retrain model\n",
    "model.fit(X_train,y_train)\n",
    "#Save model results\n",
    "predictions = model.predict(X_test)\n",
    "from sklearn.metrics import classification_report, accuracy_score\n",
    "#Evaluate and print accuracy score\n",
    "print(classification_report(y_test,predictions))\n",
    "print(accuracy_score(y_test, predictions))"
   ]
  },
  {
   "cell_type": "code",
   "execution_count": 11,
   "metadata": {},
   "outputs": [
    {
     "name": "stdout",
     "output_type": "stream",
     "text": [
      "              precision    recall  f1-score   support\n",
      "\n",
      "           0       0.72      0.90      0.80      1277\n",
      "           1       0.60      0.31      0.41       633\n",
      "\n",
      "    accuracy                           0.70      1910\n",
      "   macro avg       0.66      0.60      0.60      1910\n",
      "weighted avg       0.68      0.70      0.67      1910\n",
      "\n",
      "0.7015706806282722\n"
     ]
    }
   ],
   "source": [
    "# Gamma of 2^-5, C of 10\n",
    "model = svm.SVC(kernel='rbf', random_state=0, gamma=0.03125, C=10)\n",
    "# Retrain model\n",
    "model.fit(X_train,y_train)\n",
    "#Save model results\n",
    "predictions = model.predict(X_test)\n",
    "from sklearn.metrics import classification_report, accuracy_score\n",
    "#Evaluate and print accuracy score\n",
    "print(classification_report(y_test,predictions))\n",
    "print(accuracy_score(y_test, predictions))"
   ]
  },
  {
   "cell_type": "markdown",
   "metadata": {},
   "source": [
    "#### Gamma of 0.1"
   ]
  },
  {
   "cell_type": "code",
   "execution_count": 12,
   "metadata": {},
   "outputs": [
    {
     "name": "stdout",
     "output_type": "stream",
     "text": [
      "              precision    recall  f1-score   support\n",
      "\n",
      "           0       0.72      0.90      0.80      1277\n",
      "           1       0.60      0.30      0.40       633\n",
      "\n",
      "    accuracy                           0.70      1910\n",
      "   macro avg       0.66      0.60      0.60      1910\n",
      "weighted avg       0.68      0.70      0.67      1910\n",
      "\n",
      "0.7010471204188482\n"
     ]
    }
   ],
   "source": [
    "# Gamma of 0.1, C of 1\n",
    "model = svm.SVC(kernel='rbf', gamma=0.1, C=1)\n",
    "# Retrain model\n",
    "model.fit(X_train,y_train)\n",
    "#Save model results\n",
    "predictions = model.predict(X_test)\n",
    "from sklearn.metrics import classification_report, accuracy_score\n",
    "#Evaluate and print accuracy score\n",
    "print(classification_report(y_test,predictions))\n",
    "print(accuracy_score(y_test, predictions))"
   ]
  },
  {
   "cell_type": "code",
   "execution_count": 13,
   "metadata": {},
   "outputs": [
    {
     "name": "stdout",
     "output_type": "stream",
     "text": [
      "              precision    recall  f1-score   support\n",
      "\n",
      "           0       0.73      0.84      0.79      1277\n",
      "           1       0.55      0.38      0.45       633\n",
      "\n",
      "    accuracy                           0.69      1910\n",
      "   macro avg       0.64      0.61      0.62      1910\n",
      "weighted avg       0.67      0.69      0.67      1910\n",
      "\n",
      "0.6916230366492147\n"
     ]
    }
   ],
   "source": [
    "# Gamma of 0.1, C of 10\n",
    "model = svm.SVC(kernel='rbf', gamma=0.1, C=10)\n",
    "# Retrain model\n",
    "model.fit(X_train,y_train)\n",
    "#Save model results\n",
    "predictions = model.predict(X_test)\n",
    "from sklearn.metrics import classification_report, accuracy_score\n",
    "#Evaluate and print accuracy score\n",
    "print(classification_report(y_test,predictions))\n",
    "print(accuracy_score(y_test, predictions))"
   ]
  },
  {
   "cell_type": "markdown",
   "metadata": {},
   "source": [
    "#### Gamma of 1"
   ]
  },
  {
   "cell_type": "code",
   "execution_count": 14,
   "metadata": {},
   "outputs": [
    {
     "name": "stdout",
     "output_type": "stream",
     "text": [
      "              precision    recall  f1-score   support\n",
      "\n",
      "           0       0.69      0.87      0.77      1277\n",
      "           1       0.46      0.22      0.30       633\n",
      "\n",
      "    accuracy                           0.66      1910\n",
      "   macro avg       0.58      0.55      0.54      1910\n",
      "weighted avg       0.62      0.66      0.62      1910\n",
      "\n",
      "0.6565445026178011\n"
     ]
    }
   ],
   "source": [
    "# Gamma of 1, C of 1\n",
    "model = svm.SVC(kernel='rbf', gamma=1, C=1)\n",
    "# Retrain model\n",
    "model.fit(X_train,y_train)\n",
    "#Save model results\n",
    "predictions = model.predict(X_test)\n",
    "from sklearn.metrics import classification_report, accuracy_score\n",
    "#Evaluate and print accuracy score\n",
    "print(classification_report(y_test,predictions))\n",
    "print(accuracy_score(y_test, predictions))"
   ]
  },
  {
   "cell_type": "code",
   "execution_count": 15,
   "metadata": {},
   "outputs": [
    {
     "name": "stdout",
     "output_type": "stream",
     "text": [
      "              precision    recall  f1-score   support\n",
      "\n",
      "           0       0.69      0.87      0.77      1277\n",
      "           1       0.46      0.22      0.30       633\n",
      "\n",
      "    accuracy                           0.66      1910\n",
      "   macro avg       0.58      0.55      0.54      1910\n",
      "weighted avg       0.62      0.66      0.62      1910\n",
      "\n",
      "0.6565445026178011\n"
     ]
    }
   ],
   "source": [
    "# Gamma of 1, C of 10\n",
    "model = svm.SVC(kernel='rbf', gamma=1, C=1)\n",
    "# Retrain model\n",
    "model.fit(X_train,y_train)\n",
    "#Save model results\n",
    "predictions = model.predict(X_test)\n",
    "from sklearn.metrics import classification_report, accuracy_score\n",
    "#Evaluate and print accuracy score\n",
    "print(classification_report(y_test,predictions))\n",
    "print(accuracy_score(y_test, predictions))"
   ]
  },
  {
   "cell_type": "markdown",
   "metadata": {},
   "source": [
    "#### Gamma of 2"
   ]
  },
  {
   "cell_type": "code",
   "execution_count": 16,
   "metadata": {},
   "outputs": [
    {
     "name": "stdout",
     "output_type": "stream",
     "text": [
      "              precision    recall  f1-score   support\n",
      "\n",
      "           0       0.68      0.90      0.77      1277\n",
      "           1       0.39      0.13      0.19       633\n",
      "\n",
      "    accuracy                           0.64      1910\n",
      "   macro avg       0.53      0.51      0.48      1910\n",
      "weighted avg       0.58      0.64      0.58      1910\n",
      "\n",
      "0.643979057591623\n"
     ]
    }
   ],
   "source": [
    "# Gamma of 2, C of 1\n",
    "model = svm.SVC(kernel='rbf', gamma= 2, C=1)\n",
    "# Retrain model\n",
    "model.fit(X_train,y_train)\n",
    "#Save model results\n",
    "predictions = model.predict(X_test)\n",
    "from sklearn.metrics import classification_report, accuracy_score\n",
    "#Evaluate and print accuracy score\n",
    "print(classification_report(y_test,predictions))\n",
    "print(accuracy_score(y_test, predictions))"
   ]
  },
  {
   "cell_type": "code",
   "execution_count": 17,
   "metadata": {},
   "outputs": [
    {
     "name": "stdout",
     "output_type": "stream",
     "text": [
      "              precision    recall  f1-score   support\n",
      "\n",
      "           0       0.68      0.90      0.77      1277\n",
      "           1       0.39      0.13      0.19       633\n",
      "\n",
      "    accuracy                           0.64      1910\n",
      "   macro avg       0.53      0.51      0.48      1910\n",
      "weighted avg       0.58      0.64      0.58      1910\n",
      "\n",
      "0.643979057591623\n"
     ]
    }
   ],
   "source": [
    "# Gamma of 2, C of 10\n",
    "model = svm.SVC(kernel='rbf', gamma= 2, C=1)\n",
    "# Retrain model\n",
    "model.fit(X_train,y_train)\n",
    "#Save model results\n",
    "predictions = model.predict(X_test)\n",
    "from sklearn.metrics import classification_report, accuracy_score\n",
    "#Evaluate and print accuracy score\n",
    "print(classification_report(y_test,predictions))\n",
    "print(accuracy_score(y_test, predictions))"
   ]
  },
  {
   "cell_type": "markdown",
   "metadata": {},
   "source": [
    "### Question 4. So out of all the models you try in Question 3 and 4, what is the best choice for the kernel, C and gamma parameters?"
   ]
  },
  {
   "cell_type": "markdown",
   "metadata": {},
   "source": [
    "It seems the best choice is an rbf model with gamma of 2^-5 and a C value of 10. This decision is based on the increase in F1 Score, Recall, and accuracy, which seem to outweigh the minimal reduction in precision(0.01 less as compared to the linear model, 0.02 as compared to best precision)."
   ]
  },
  {
   "cell_type": "markdown",
   "metadata": {},
   "source": [
    "# Now we will try to fit the same dataset with Decision Trees"
   ]
  },
  {
   "cell_type": "markdown",
   "metadata": {},
   "source": [
    "### Question 5. Build a Decision Tree Classifier using default parameter"
   ]
  },
  {
   "cell_type": "code",
   "execution_count": 18,
   "metadata": {},
   "outputs": [
    {
     "data": {
      "text/plain": [
       "DecisionTreeClassifier(class_weight=None, criterion='gini', max_depth=None,\n",
       "                       max_features=None, max_leaf_nodes=None,\n",
       "                       min_impurity_decrease=0.0, min_impurity_split=None,\n",
       "                       min_samples_leaf=1, min_samples_split=2,\n",
       "                       min_weight_fraction_leaf=0.0, presort=False,\n",
       "                       random_state=None, splitter='best')"
      ]
     },
     "execution_count": 18,
     "metadata": {},
     "output_type": "execute_result"
    }
   ],
   "source": [
    "# Build tree model\n",
    "from sklearn.tree import DecisionTreeClassifier\n",
    "model = DecisionTreeClassifier()\n",
    "# Train model\n",
    "model.fit(X_train,y_train)"
   ]
  },
  {
   "cell_type": "code",
   "execution_count": 19,
   "metadata": {},
   "outputs": [
    {
     "name": "stdout",
     "output_type": "stream",
     "text": [
      "[[994 283]\n",
      " [387 246]]\n",
      "              precision    recall  f1-score   support\n",
      "\n",
      "           0       0.72      0.78      0.75      1277\n",
      "           1       0.47      0.39      0.42       633\n",
      "\n",
      "    accuracy                           0.65      1910\n",
      "   macro avg       0.59      0.58      0.59      1910\n",
      "weighted avg       0.64      0.65      0.64      1910\n",
      "\n",
      "0.6492146596858639\n"
     ]
    }
   ],
   "source": [
    "from sklearn.metrics import confusion_matrix\n",
    "#Save model results\n",
    "predictions = model.predict(X_test)\n",
    "#Evaluate and print accuracy score\n",
    "print(confusion_matrix(y_test,predictions))\n",
    "print(classification_report(y_test,predictions))\n",
    "print(accuracy_score(y_test, predictions))"
   ]
  },
  {
   "cell_type": "markdown",
   "metadata": {},
   "source": [
    "### Question 6. Now try using max_depth = 2, 3, 4 and criterion = 'gini' and 'entropy' to build 3 X 2 = 6 different models"
   ]
  },
  {
   "cell_type": "markdown",
   "metadata": {},
   "source": [
    "#### Max depth of 2"
   ]
  },
  {
   "cell_type": "code",
   "execution_count": 20,
   "metadata": {},
   "outputs": [
    {
     "name": "stdout",
     "output_type": "stream",
     "text": [
      "[[1094  183]\n",
      " [ 401  232]]\n",
      "              precision    recall  f1-score   support\n",
      "\n",
      "           0       0.73      0.86      0.79      1277\n",
      "           1       0.56      0.37      0.44       633\n",
      "\n",
      "    accuracy                           0.69      1910\n",
      "   macro avg       0.65      0.61      0.62      1910\n",
      "weighted avg       0.67      0.69      0.67      1910\n",
      "\n",
      "0.694240837696335\n"
     ]
    }
   ],
   "source": [
    "# max_depth of 2, criterion = gini\n",
    "model = DecisionTreeClassifier(max_depth=2, criterion='gini')\n",
    "# Train model\n",
    "model.fit(X_train,y_train)\n",
    "#Save model results\n",
    "predictions = model.predict(X_test)\n",
    "#Evaluate and print accuracy score\n",
    "print(confusion_matrix(y_test,predictions))\n",
    "print(classification_report(y_test,predictions))\n",
    "print(accuracy_score(y_test, predictions))"
   ]
  },
  {
   "cell_type": "code",
   "execution_count": 21,
   "metadata": {},
   "outputs": [
    {
     "name": "stdout",
     "output_type": "stream",
     "text": [
      "[[1094  183]\n",
      " [ 401  232]]\n",
      "              precision    recall  f1-score   support\n",
      "\n",
      "           0       0.73      0.86      0.79      1277\n",
      "           1       0.56      0.37      0.44       633\n",
      "\n",
      "    accuracy                           0.69      1910\n",
      "   macro avg       0.65      0.61      0.62      1910\n",
      "weighted avg       0.67      0.69      0.67      1910\n",
      "\n",
      "0.694240837696335\n"
     ]
    }
   ],
   "source": [
    "# max_depth of 2, criterion = entropy\n",
    "model = DecisionTreeClassifier(max_depth=2, criterion='entropy')\n",
    "# Train model\n",
    "model.fit(X_train,y_train)\n",
    "#Save model results\n",
    "predictions = model.predict(X_test)\n",
    "#Evaluate and print accuracy score\n",
    "print(confusion_matrix(y_test,predictions))\n",
    "print(classification_report(y_test,predictions))\n",
    "print(accuracy_score(y_test, predictions))"
   ]
  },
  {
   "cell_type": "markdown",
   "metadata": {},
   "source": [
    "#### Max depth of 3"
   ]
  },
  {
   "cell_type": "code",
   "execution_count": 22,
   "metadata": {},
   "outputs": [
    {
     "name": "stdout",
     "output_type": "stream",
     "text": [
      "[[1094  183]\n",
      " [ 401  232]]\n",
      "              precision    recall  f1-score   support\n",
      "\n",
      "           0       0.73      0.86      0.79      1277\n",
      "           1       0.56      0.37      0.44       633\n",
      "\n",
      "    accuracy                           0.69      1910\n",
      "   macro avg       0.65      0.61      0.62      1910\n",
      "weighted avg       0.67      0.69      0.67      1910\n",
      "\n",
      "0.694240837696335\n"
     ]
    }
   ],
   "source": [
    "# max_depth of 3, criterion = gini\n",
    "model = DecisionTreeClassifier(max_depth=3, criterion='gini')\n",
    "# Train model\n",
    "model.fit(X_train,y_train)\n",
    "#Save model results\n",
    "predictions = model.predict(X_test)\n",
    "#Evaluate and print accuracy score\n",
    "print(confusion_matrix(y_test,predictions))\n",
    "print(classification_report(y_test,predictions))\n",
    "print(accuracy_score(y_test, predictions))"
   ]
  },
  {
   "cell_type": "code",
   "execution_count": 23,
   "metadata": {},
   "outputs": [
    {
     "name": "stdout",
     "output_type": "stream",
     "text": [
      "[[1094  183]\n",
      " [ 401  232]]\n",
      "              precision    recall  f1-score   support\n",
      "\n",
      "           0       0.73      0.86      0.79      1277\n",
      "           1       0.56      0.37      0.44       633\n",
      "\n",
      "    accuracy                           0.69      1910\n",
      "   macro avg       0.65      0.61      0.62      1910\n",
      "weighted avg       0.67      0.69      0.67      1910\n",
      "\n",
      "0.694240837696335\n"
     ]
    }
   ],
   "source": [
    "# max_depth of 3, criterion = entropy\n",
    "model = DecisionTreeClassifier(max_depth=3, criterion='entropy')\n",
    "# Train model\n",
    "model.fit(X_train,y_train)\n",
    "#Save model results\n",
    "predictions = model.predict(X_test)\n",
    "#Evaluate and print accuracy score\n",
    "print(confusion_matrix(y_test,predictions))\n",
    "print(classification_report(y_test,predictions))\n",
    "print(accuracy_score(y_test, predictions))"
   ]
  },
  {
   "cell_type": "markdown",
   "metadata": {},
   "source": [
    "#### Max Depth of 4"
   ]
  },
  {
   "cell_type": "code",
   "execution_count": 24,
   "metadata": {},
   "outputs": [
    {
     "name": "stdout",
     "output_type": "stream",
     "text": [
      "[[1150  127]\n",
      " [ 447  186]]\n",
      "              precision    recall  f1-score   support\n",
      "\n",
      "           0       0.72      0.90      0.80      1277\n",
      "           1       0.59      0.29      0.39       633\n",
      "\n",
      "    accuracy                           0.70      1910\n",
      "   macro avg       0.66      0.60      0.60      1910\n",
      "weighted avg       0.68      0.70      0.67      1910\n",
      "\n",
      "0.6994764397905759\n"
     ]
    }
   ],
   "source": [
    "# max_depth of 4, criterion = gini\n",
    "model = DecisionTreeClassifier(max_depth=4, criterion='gini')\n",
    "# Train model\n",
    "model.fit(X_train,y_train)\n",
    "#Save model results\n",
    "predictions = model.predict(X_test)\n",
    "#Evaluate and print accuracy score\n",
    "print(confusion_matrix(y_test,predictions))\n",
    "print(classification_report(y_test,predictions))\n",
    "print(accuracy_score(y_test, predictions))"
   ]
  },
  {
   "cell_type": "code",
   "execution_count": 25,
   "metadata": {},
   "outputs": [
    {
     "name": "stdout",
     "output_type": "stream",
     "text": [
      "[[1150  127]\n",
      " [ 447  186]]\n",
      "              precision    recall  f1-score   support\n",
      "\n",
      "           0       0.72      0.90      0.80      1277\n",
      "           1       0.59      0.29      0.39       633\n",
      "\n",
      "    accuracy                           0.70      1910\n",
      "   macro avg       0.66      0.60      0.60      1910\n",
      "weighted avg       0.68      0.70      0.67      1910\n",
      "\n",
      "0.6994764397905759\n"
     ]
    }
   ],
   "source": [
    "# max_depth of 4, criterion = entropy\n",
    "model = DecisionTreeClassifier(max_depth=4, criterion='entropy')\n",
    "# Train model\n",
    "model.fit(X_train,y_train)\n",
    "#Save model results\n",
    "predictions = model.predict(X_test)\n",
    "#Evaluate and print accuracy score\n",
    "print(confusion_matrix(y_test,predictions))\n",
    "print(classification_report(y_test,predictions))\n",
    "print(accuracy_score(y_test, predictions))"
   ]
  },
  {
   "cell_type": "markdown",
   "metadata": {},
   "source": [
    "### Question 7. What is your obsevation from Question 6? Does the choice of the criterion important in this case? What about the max_depth? What is the best choice of max_depth and criterion?"
   ]
  },
  {
   "cell_type": "markdown",
   "metadata": {},
   "source": [
    "#### Criterion\n",
    "There is no change in precision, recall, f1-score, or accuracy between the 2 criterion for each max_depth, thus the choice of criterion does not seem to make a difference in this model."
   ]
  },
  {
   "cell_type": "markdown",
   "metadata": {},
   "source": [
    "#### Max_depth\n",
    "Max_depths of 2 and 3 seemed to yield similar results while a max_depth of 4 led to higher precision and accuracy, but lower recall and f1-score for positive cases."
   ]
  },
  {
   "cell_type": "markdown",
   "metadata": {},
   "source": [
    "#### Best Choice\n",
    "Either decision tree model with a max_depth of 2 or 3 seem to be good candidates for the best choice. The choice of criterion does not matter since it yields no difference in score, and all 4 models performed better than the decision tree with default values."
   ]
  },
  {
   "cell_type": "markdown",
   "metadata": {},
   "source": [
    "## Tree Visualization\n",
    "\n",
    "Scikit learn actually has some built-in visualization capabilities for decision trees, you won't use this often and it requires you to install the pydot library, but here is an example of what it looks like and the code to execute this:"
   ]
  },
  {
   "cell_type": "code",
   "execution_count": 26,
   "metadata": {},
   "outputs": [
    {
     "name": "stderr",
     "output_type": "stream",
     "text": [
      "C:\\Users\\steli\\Anaconda3\\lib\\site-packages\\sklearn\\externals\\six.py:31: DeprecationWarning: The module is deprecated in version 0.21 and will be removed in version 0.23 since we've dropped support for Python 2.7. Please rely on the official version of six (https://pypi.org/project/six/).\n",
      "  \"(https://pypi.org/project/six/).\", DeprecationWarning)\n"
     ]
    },
    {
     "data": {
      "text/plain": [
       "['age',\n",
       " 'yrs_married',\n",
       " 'children',\n",
       " 'religious',\n",
       " 'educ',\n",
       " 'had_affair',\n",
       " 'occ2',\n",
       " 'occ3',\n",
       " 'occ4',\n",
       " 'occ5',\n",
       " 'occ6']"
      ]
     },
     "execution_count": 26,
     "metadata": {},
     "output_type": "execute_result"
    }
   ],
   "source": [
    "from IPython.display import Image  \n",
    "from sklearn.externals.six import StringIO  \n",
    "from sklearn.tree import export_graphviz\n",
    "import io\n",
    "import pydot \n",
    "features = list(df.columns[1:])\n",
    "features"
   ]
  },
  {
   "cell_type": "code",
   "execution_count": 27,
   "metadata": {},
   "outputs": [
    {
     "data": {
      "image/png": "[encoded data removed]",
      "text/plain": [
       "<IPython.core.display.Image object>"
      ]
     },
     "execution_count": 27,
     "metadata": {},
     "output_type": "execute_result"
    }
   ],
   "source": [
    "dot_data = StringIO()  \n",
    "export_graphviz(model, out_file=dot_data, feature_names=features)\n",
    "(graph, ) = pydot.graph_from_dot_data(dot_data.getvalue())\n",
    "Image(graph.create_png())"
   ]
  },
  {
   "cell_type": "markdown",
   "metadata": {},
   "source": [
    "### Question 8, now pick three models, with max_depth = 2, 3 and 4. You can pick the which ever criterions you want and visual the three trees"
   ]
  },
  {
   "cell_type": "code",
   "execution_count": 23,
   "metadata": {},
   "outputs": [],
   "source": [
    "# Hint \n",
    "# model1 = DecisionTreeClassifier(max_depth=..., criterion= ...)\n",
    "# model1.fit(X_train, y_train)\n",
    "# model2 = DecisionTreeClassifier(max_depth=..., criterion= ...)\n",
    "# model2.fit(X_train, y_train)\n",
    "# model3 = DecisionTreeClassifier(max_depth=..., criterion= ...)\n",
    "# model3.fit(X_train, y_train)\n",
    "# Then display all 3 trees\n",
    "# \n",
    "\n",
    "#dot_data = StringIO()  \n",
    "#export_graphviz(model1, out_file=dot_data, feature_names=features)\n",
    "#graph = pydot.graph_from_dot_data(dot_data.getvalue())\n",
    "#Image(graph[0].create_png())"
   ]
  },
  {
   "cell_type": "code",
   "execution_count": 28,
   "metadata": {},
   "outputs": [
    {
     "data": {
      "text/plain": [
       "DecisionTreeClassifier(class_weight=None, criterion='entropy', max_depth=4,\n",
       "                       max_features=None, max_leaf_nodes=None,\n",
       "                       min_impurity_decrease=0.0, min_impurity_split=None,\n",
       "                       min_samples_leaf=1, min_samples_split=2,\n",
       "                       min_weight_fraction_leaf=0.0, presort=False,\n",
       "                       random_state=None, splitter='best')"
      ]
     },
     "execution_count": 28,
     "metadata": {},
     "output_type": "execute_result"
    }
   ],
   "source": [
    "# Create models\n",
    "model1 = DecisionTreeClassifier(max_depth=2, criterion='entropy')\n",
    "model1.fit(X_train, y_train)\n",
    "model2 = DecisionTreeClassifier(max_depth=3, criterion='entropy')\n",
    "model2.fit(X_train, y_train)\n",
    "model3 = DecisionTreeClassifier(max_depth=4, criterion='entropy')\n",
    "model3.fit(X_train, y_train)"
   ]
  },
  {
   "cell_type": "code",
   "execution_count": 34,
   "metadata": {},
   "outputs": [
    {
     "data": {
      "image/png": "[encoded data removed]",
      "text/plain": [
       "<IPython.core.display.Image object>"
      ]
     },
     "execution_count": 34,
     "metadata": {},
     "output_type": "execute_result"
    }
   ],
   "source": [
    "# Model 1\n",
    "dot_data1 = StringIO()\n",
    "export_graphviz(model1, out_file=dot_data, feature_names=features)\n",
    "graph1 = pydot.graph_from_dot_data(dot_data.getvalue())\n",
    "Image(graph1[0].create_png())"
   ]
  },
  {
   "cell_type": "code",
   "execution_count": 37,
   "metadata": {},
   "outputs": [
    {
     "data": {
      "image/png": "[encoded data removed]",
      "text/plain": [
       "<IPython.core.display.Image object>"
      ]
     },
     "execution_count": 37,
     "metadata": {},
     "output_type": "execute_result"
    }
   ],
   "source": [
    "# Model 2\n",
    "dot_data2 = StringIO()\n",
    "export_graphviz(model2, out_file=dot_data, feature_names=features)\n",
    "graph2 = pydot.graph_from_dot_data(dot_data.getvalue())\n",
    "Image(graph2[0].create_png())"
   ]
  },
  {
   "cell_type": "code",
   "execution_count": 38,
   "metadata": {},
   "outputs": [
    {
     "data": {
      "image/png": "[encoded data removed]",
      "text/plain": [
       "<IPython.core.display.Image object>"
      ]
     },
     "execution_count": 38,
     "metadata": {},
     "output_type": "execute_result"
    }
   ],
   "source": [
    "# Model 3\n",
    "dot_data3 = StringIO()\n",
    "export_graphviz(model3, out_file=dot_data, feature_names=features)\n",
    "graph3 = pydot.graph_from_dot_data(dot_data.getvalue())\n",
    "Image(graph3[0].create_png())"
   ]
  },
  {
   "cell_type": "markdown",
   "metadata": {},
   "source": [
    "### Question 9. Now build a Random Forest Classifier with, say, 100 trees. Check the model performance "
   ]
  },
  {
   "cell_type": "code",
   "execution_count": 39,
   "metadata": {},
   "outputs": [
    {
     "data": {
      "text/plain": [
       "RandomForestClassifier(bootstrap=True, class_weight=None, criterion='gini',\n",
       "                       max_depth=None, max_features='auto', max_leaf_nodes=None,\n",
       "                       min_impurity_decrease=0.0, min_impurity_split=None,\n",
       "                       min_samples_leaf=1, min_samples_split=2,\n",
       "                       min_weight_fraction_leaf=0.0, n_estimators=100,\n",
       "                       n_jobs=None, oob_score=False, random_state=None,\n",
       "                       verbose=0, warm_start=False)"
      ]
     },
     "execution_count": 39,
     "metadata": {},
     "output_type": "execute_result"
    }
   ],
   "source": [
    "from sklearn.ensemble import RandomForestClassifier\n",
    "rfc = RandomForestClassifier(n_estimators=100)\n",
    "rfc.fit(X_train, y_train)"
   ]
  },
  {
   "cell_type": "code",
   "execution_count": 40,
   "metadata": {},
   "outputs": [
    {
     "name": "stdout",
     "output_type": "stream",
     "text": [
      "              precision    recall  f1-score   support\n",
      "\n",
      "           0       0.72      0.90      0.80      1277\n",
      "           1       0.59      0.29      0.39       633\n",
      "\n",
      "    accuracy                           0.70      1910\n",
      "   macro avg       0.66      0.60      0.60      1910\n",
      "weighted avg       0.68      0.70      0.67      1910\n",
      "\n",
      "0.6994764397905759\n"
     ]
    }
   ],
   "source": [
    "predictions = rfc.predict(X_test)\n",
    "print(classification_report(y_test,predictions))\n",
    "print(accuracy_score(y_test, predictions))"
   ]
  }
 ],
 "metadata": {
  "kernelspec": {
   "display_name": "Python 3",
   "language": "python",
   "name": "python3"
  },
  "language_info": {
   "codemirror_mode": {
    "name": "ipython",
    "version": 3
   },
   "file_extension": ".py",
   "mimetype": "text/x-python",
   "name": "python",
   "nbconvert_exporter": "python",
   "pygments_lexer": "ipython3",
   "version": "3.7.4"
  }
 },
 "nbformat": 4,
 "nbformat_minor": 2
}
